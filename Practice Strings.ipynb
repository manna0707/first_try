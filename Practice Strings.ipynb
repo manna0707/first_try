{
 "cells": [
  {
   "cell_type": "markdown",
   "id": "7ec868b5-3500-4a30-b6f0-6af4f8d19041",
   "metadata": {},
   "source": [
    "Strings"
   ]
  },
  {
   "cell_type": "code",
   "execution_count": 2,
   "id": "ae6c330a-ae5a-4db9-98bc-ef22fe85745d",
   "metadata": {},
   "outputs": [
    {
     "data": {
      "text/plain": [
       "'Michael Jackson'"
      ]
     },
     "execution_count": 2,
     "metadata": {},
     "output_type": "execute_result"
    }
   ],
   "source": [
    "# Use quotation mark for defining string\n",
    "\n",
    "\"Michael Jackson\""
   ]
  },
  {
   "cell_type": "code",
   "execution_count": 3,
   "id": "c1d274c3-34da-4925-887a-928228714a76",
   "metadata": {},
   "outputs": [
    {
     "data": {
      "text/plain": [
       "'Michael Jackson'"
      ]
     },
     "execution_count": 3,
     "metadata": {},
     "output_type": "execute_result"
    }
   ],
   "source": [
    "# Use single quatation marks to define string\n",
    "\n",
    "'Michael Jackson'"
   ]
  },
  {
   "cell_type": "code",
   "execution_count": 4,
   "id": "4846bb77-0823-4970-b3df-7e543909568b",
   "metadata": {},
   "outputs": [
    {
     "data": {
      "text/plain": [
       "'1 2 3 4 5 6 '"
      ]
     },
     "execution_count": 4,
     "metadata": {},
     "output_type": "execute_result"
    }
   ],
   "source": [
    "# Digitals and spaces in string\n",
    "\n",
    "'1 2 3 4 5 6 '"
   ]
  },
  {
   "cell_type": "code",
   "execution_count": 5,
   "id": "6a98332a-8be1-4157-9049-3790bfb3e785",
   "metadata": {},
   "outputs": [
    {
     "data": {
      "text/plain": [
       "'@#2_#]&*^%$'"
      ]
     },
     "execution_count": 5,
     "metadata": {},
     "output_type": "execute_result"
    }
   ],
   "source": [
    "# Special characters in string\n",
    "\n",
    "'@#2_#]&*^%$'"
   ]
  },
  {
   "cell_type": "code",
   "execution_count": 6,
   "id": "d7a3b517-4292-4825-82d0-d2b84e277fdd",
   "metadata": {},
   "outputs": [
    {
     "name": "stdout",
     "output_type": "stream",
     "text": [
      "hello!\n"
     ]
    }
   ],
   "source": [
    "# Print the string\n",
    "\n",
    "print('hello!')"
   ]
  },
  {
   "cell_type": "code",
   "execution_count": 8,
   "id": "d16bc2e0-14ef-4200-a2a0-5cbdddceba6d",
   "metadata": {},
   "outputs": [
    {
     "data": {
      "text/plain": [
       "'Michael Jackson'"
      ]
     },
     "execution_count": 8,
     "metadata": {},
     "output_type": "execute_result"
    }
   ],
   "source": [
    "# Assign string to variable\n",
    "\n",
    "name = 'Michael Jackson'\n",
    "name"
   ]
  },
  {
   "cell_type": "markdown",
   "id": "009bbdc0-08ab-46ee-b686-e018eb6af2c1",
   "metadata": {},
   "source": [
    "Indexing"
   ]
  },
  {
   "cell_type": "code",
   "execution_count": 9,
   "id": "96524eee-6fe2-4795-aa20-2d1c878ba3e5",
   "metadata": {},
   "outputs": [
    {
     "name": "stdout",
     "output_type": "stream",
     "text": [
      "M\n"
     ]
    }
   ],
   "source": [
    "# Print the first element in the string\n",
    "\n",
    "print(name[0])"
   ]
  },
  {
   "cell_type": "code",
   "execution_count": 10,
   "id": "630d3dfa-77f2-4ed4-a584-f2e575d7c37e",
   "metadata": {},
   "outputs": [
    {
     "name": "stdout",
     "output_type": "stream",
     "text": [
      "l\n"
     ]
    }
   ],
   "source": [
    "# Print the element on index 6\n",
    "\n",
    "print(name[6])"
   ]
  },
  {
   "cell_type": "code",
   "execution_count": 11,
   "id": "9e3eaf53-80bd-4260-8dce-edc30c1acb84",
   "metadata": {},
   "outputs": [
    {
     "name": "stdout",
     "output_type": "stream",
     "text": [
      "o\n"
     ]
    }
   ],
   "source": [
    "# Print the element on the 13th index in the string\n",
    "\n",
    "print(name[13])"
   ]
  },
  {
   "cell_type": "markdown",
   "id": "51d431b8-fded-488e-92d8-149c84fbe968",
   "metadata": {},
   "source": [
    "Negative Indexing\n",
    "\n",
    "It helps us to count the element from the end of the string"
   ]
  },
  {
   "cell_type": "code",
   "execution_count": 13,
   "id": "49656a52-8f46-4acd-937d-e484166e3f17",
   "metadata": {},
   "outputs": [
    {
     "name": "stdout",
     "output_type": "stream",
     "text": [
      "n\n"
     ]
    }
   ],
   "source": [
    "# Print the last element in the string\n",
    "\n",
    "print(name[-1])"
   ]
  },
  {
   "cell_type": "code",
   "execution_count": 14,
   "id": "f79ade64-567c-4258-bbaa-6e1f2506c46a",
   "metadata": {},
   "outputs": [
    {
     "name": "stdout",
     "output_type": "stream",
     "text": [
      "M\n"
     ]
    }
   ],
   "source": [
    "# Print the first element in the string\n",
    "\n",
    "print(name[-15])"
   ]
  },
  {
   "cell_type": "code",
   "execution_count": 16,
   "id": "d7be0291-ad0f-43bd-b78a-fd74c18e458b",
   "metadata": {},
   "outputs": [
    {
     "data": {
      "text/plain": [
       "15"
      ]
     },
     "execution_count": 16,
     "metadata": {},
     "output_type": "execute_result"
    }
   ],
   "source": [
    "# Find the lenght of string\n",
    "\n",
    "len('Michael Jackson')"
   ]
  },
  {
   "cell_type": "markdown",
   "id": "e85da641-c0d2-4b6d-bf81-7e363f31680c",
   "metadata": {},
   "source": [
    "Slicing\n",
    "[Tip]: When taking the slice, the first number means the index (start at 0), and the second number means the length from the index to the last element you want (start at 1) "
   ]
  },
  {
   "cell_type": "code",
   "execution_count": 17,
   "id": "fd5c8119-807e-4c26-851d-3239c84282ae",
   "metadata": {},
   "outputs": [
    {
     "data": {
      "text/plain": [
       "'Mich'"
      ]
     },
     "execution_count": 17,
     "metadata": {},
     "output_type": "execute_result"
    }
   ],
   "source": [
    "# Take the slice on variable name with only index 0 to index 3\n",
    "\n",
    "name [0:4]"
   ]
  },
  {
   "cell_type": "code",
   "execution_count": 18,
   "id": "9a9bb1e1-0671-4ac9-8f3a-8e4c128379b7",
   "metadata": {},
   "outputs": [
    {
     "data": {
      "text/plain": [
       "'Jack'"
      ]
     },
     "execution_count": 18,
     "metadata": {},
     "output_type": "execute_result"
    }
   ],
   "source": [
    "# Take the slice on variable name with only index 8 to index 11\n",
    "\n",
    "name [8:12]"
   ]
  },
  {
   "cell_type": "markdown",
   "id": "cb1395d7-70b2-4263-909c-22b485785f15",
   "metadata": {},
   "source": [
    "Stride"
   ]
  },
  {
   "cell_type": "code",
   "execution_count": 19,
   "id": "30e9da6c-48c4-4e29-b9eb-e429050d5e83",
   "metadata": {},
   "outputs": [
    {
     "data": {
      "text/plain": [
       "'McalJcsn'"
      ]
     },
     "execution_count": 19,
     "metadata": {},
     "output_type": "execute_result"
    }
   ],
   "source": [
    "# Get every second element. The elments on index 1, 3, 5 ...\n",
    "\n",
    "name [::2]"
   ]
  },
  {
   "cell_type": "code",
   "execution_count": 21,
   "id": "784beae7-fdcf-45cc-b55f-29cc976c3c64",
   "metadata": {},
   "outputs": [
    {
     "data": {
      "text/plain": [
       "'Mca'"
      ]
     },
     "execution_count": 21,
     "metadata": {},
     "output_type": "execute_result"
    }
   ],
   "source": [
    "# Get every second element in the range from index 0 to index 4\n",
    "\n",
    "name [0:5:2]"
   ]
  },
  {
   "cell_type": "markdown",
   "id": "5ee1e1d2-293a-4020-acc5-a8595b89d416",
   "metadata": {},
   "source": [
    "Concatenate Strings"
   ]
  },
  {
   "cell_type": "code",
   "execution_count": 23,
   "id": "6bed5acc-2a0a-4927-8a2f-0d41f45aed0d",
   "metadata": {},
   "outputs": [
    {
     "data": {
      "text/plain": [
       "'Michael Jackson is the best'"
      ]
     },
     "execution_count": 23,
     "metadata": {},
     "output_type": "execute_result"
    }
   ],
   "source": [
    "# Concatenate two strings\n",
    "\n",
    "statement = name + ' is the best'\n",
    "statement"
   ]
  },
  {
   "cell_type": "code",
   "execution_count": 24,
   "id": "2b53faab-3553-4669-bc49-ed45dadc614d",
   "metadata": {},
   "outputs": [
    {
     "data": {
      "text/plain": [
       "'Michael JacksonMichael JacksonMichael Jackson'"
      ]
     },
     "execution_count": 24,
     "metadata": {},
     "output_type": "execute_result"
    }
   ],
   "source": [
    "# Print the string 3 times\n",
    "\n",
    "3 * 'Michael Jackson'"
   ]
  },
  {
   "cell_type": "markdown",
   "id": "2b1e4717-8717-4063-b7c5-08159d0f8608",
   "metadata": {},
   "source": [
    "Escape sequences"
   ]
  },
  {
   "cell_type": "code",
   "execution_count": 26,
   "id": "547bba34-f046-491a-93a3-61e6ae5c9978",
   "metadata": {},
   "outputs": [
    {
     "name": "stdout",
     "output_type": "stream",
     "text": [
      "Michael Jackson \n",
      "is the best\n"
     ]
    }
   ],
   "source": [
    "# New line escape sequence\n",
    "\n",
    "print('Michael Jackson \\nis the best')"
   ]
  },
  {
   "cell_type": "code",
   "execution_count": 27,
   "id": "89e04c07-e842-4e1a-a5e1-6ae92be1639b",
   "metadata": {},
   "outputs": [
    {
     "name": "stdout",
     "output_type": "stream",
     "text": [
      "Michael Jackson \t is the best\n"
     ]
    }
   ],
   "source": [
    "# Tab escape sequence\n",
    "\n",
    "print('Michael Jackson \\t is the best')"
   ]
  },
  {
   "cell_type": "code",
   "execution_count": 28,
   "id": "3719d191-e9ab-4812-9c77-6dcbc7854426",
   "metadata": {},
   "outputs": [
    {
     "name": "stdout",
     "output_type": "stream",
     "text": [
      "Michael Jackson \\ is the best\n"
     ]
    }
   ],
   "source": [
    "# Place back slash in string\n",
    "\n",
    "print ('Michael Jackson \\\\ is the best')"
   ]
  },
  {
   "cell_type": "code",
   "execution_count": 30,
   "id": "3faea6e9-f5b5-4988-ba59-33a89e70e827",
   "metadata": {},
   "outputs": [
    {
     "name": "stdout",
     "output_type": "stream",
     "text": [
      "Michael Jackson \\ is the best\n"
     ]
    }
   ],
   "source": [
    "# r will tell python that string will be display as raw string\n",
    "\n",
    "print (r'Michael Jackson \\ is the best')"
   ]
  },
  {
   "cell_type": "code",
   "execution_count": 31,
   "id": "2ec858e1-22f1-417d-97ec-c15f24b78201",
   "metadata": {},
   "outputs": [
    {
     "name": "stdout",
     "output_type": "stream",
     "text": [
      "Michael Jackson \\n is the best\n"
     ]
    }
   ],
   "source": [
    "# Just a try what r does.... it seems, it makes Python ignore the back slash syntax...\n",
    "print(r'Michael Jackson \\n is the best')"
   ]
  },
  {
   "cell_type": "markdown",
   "id": "20d02107-3cf6-4666-97ca-c984dd20f2d0",
   "metadata": {},
   "source": [
    "String Operations"
   ]
  },
  {
   "cell_type": "code",
   "execution_count": 32,
   "id": "790665d6-cb98-4575-a38d-3fdf6036193a",
   "metadata": {},
   "outputs": [
    {
     "name": "stdout",
     "output_type": "stream",
     "text": [
      "before upper: Thriller is the sixth studio album\n",
      "after upper: THRILLER IS THE SIXTH STUDIO ALBUM\n"
     ]
    }
   ],
   "source": [
    "# Convert all the characters in string to upper case\n",
    "\n",
    "a = 'Thriller is the sixth studio album'\n",
    "print ('before upper:', a)\n",
    "b = a.upper()\n",
    "print ('after upper:', b)"
   ]
  },
  {
   "cell_type": "code",
   "execution_count": 35,
   "id": "e09774da-723a-4b11-a8d3-13e094c433c3",
   "metadata": {},
   "outputs": [
    {
     "name": "stdout",
     "output_type": "stream",
     "text": [
      "Janet Jackson\n"
     ]
    }
   ],
   "source": [
    "# Replace the old substring with the new target substring is the segment has been found in the string\n",
    "\n",
    "a = 'Michael Jackson'\n",
    "b = a.replace('Michael','Janet')\n",
    "print(b)"
   ]
  },
  {
   "cell_type": "markdown",
   "id": "bb49bec9-caad-4001-b5e1-91bb1da9cdc6",
   "metadata": {},
   "source": [
    "Find function"
   ]
  },
  {
   "cell_type": "code",
   "execution_count": 36,
   "id": "b21f6732-64ed-41b1-8f84-e07e34e2f6ef",
   "metadata": {},
   "outputs": [
    {
     "data": {
      "text/plain": [
       "5"
      ]
     },
     "execution_count": 36,
     "metadata": {},
     "output_type": "execute_result"
    }
   ],
   "source": [
    "# Find the substring in the string. Only the index of the first elment of substring in string will be the output\n",
    "\n",
    "name = 'Michael Jackson'\n",
    "name.find('el')"
   ]
  },
  {
   "cell_type": "code",
   "execution_count": 37,
   "id": "27038a91-242a-4d80-b574-a9583321f1bd",
   "metadata": {},
   "outputs": [
    {
     "data": {
      "text/plain": [
       "8"
      ]
     },
     "execution_count": 37,
     "metadata": {},
     "output_type": "execute_result"
    }
   ],
   "source": [
    "# Find the substring in the string.\n",
    "\n",
    "name.find('Jack')"
   ]
  },
  {
   "cell_type": "code",
   "execution_count": 38,
   "id": "bd896894-8b05-41dc-8b9a-d1acde19c828",
   "metadata": {},
   "outputs": [
    {
     "data": {
      "text/plain": [
       "-1"
      ]
     },
     "execution_count": 38,
     "metadata": {},
     "output_type": "execute_result"
    }
   ],
   "source": [
    "# If cannot find the substring in the string\n",
    "\n",
    "name.find('qibefnk')"
   ]
  },
  {
   "cell_type": "markdown",
   "id": "06bd9cd4-d6d7-4399-bbe4-b782de2a1b38",
   "metadata": {},
   "source": [
    "-1 means no solution"
   ]
  }
 ],
 "metadata": {
  "kernelspec": {
   "display_name": "Python",
   "language": "python",
   "name": "conda-env-python-py"
  },
  "language_info": {
   "codemirror_mode": {
    "name": "ipython",
    "version": 3
   },
   "file_extension": ".py",
   "mimetype": "text/x-python",
   "name": "python",
   "nbconvert_exporter": "python",
   "pygments_lexer": "ipython3",
   "version": "3.6.13"
  }
 },
 "nbformat": 4,
 "nbformat_minor": 5
}
